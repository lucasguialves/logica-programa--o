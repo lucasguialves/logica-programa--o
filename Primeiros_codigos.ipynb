{
  "nbformat": 4,
  "nbformat_minor": 0,
  "metadata": {
    "colab": {
      "provenance": []
    },
    "kernelspec": {
      "name": "python3",
      "display_name": "Python 3"
    },
    "language_info": {
      "name": "python"
    }
  },
  "cells": [
    {
      "cell_type": "markdown",
      "source": [
        "# ***Calculadora Simples***\n",
        "\n",
        "***Essa calculadora irá mostrar a adcao, subtração, divisao e multiplicação dos mumeros que forem digitados dos dois numero digitados.***\n"
      ],
      "metadata": {
        "id": "h4Ux9YqeIJXO"
      }
    },
    {
      "cell_type": "code",
      "source": [
        "numeroUm = input(\"Digite seu primeiro numero\") # Aguarda o usuario digitar\n",
        "print (\"seu numero digitado foi = \", numeroUm)\n",
        "\n",
        "numeroDois = input(\"Digite o segundo numero\") # Aguarda o usuario digitar\n",
        "print (\"seu numero digitado foi = \", numeroDois)\n",
        "\n",
        "print(\"O resultado subtraido,adcionado,dividido e mutiplicado é\")\n",
        "valor_um = float(numeroUm)\n",
        "valor_dois = float(numeroDois)\n",
        "desconto = valor_um - valor_dois\n",
        "acrescimo = valor_um + valor_dois\n",
        "dividido = valor_um / valor_dois\n",
        "mutiplica = valor_um * valor_dois\n",
        "print(desconto)\n",
        "print(acrescimo)\n",
        "print(dividido)\n",
        "print(mutiplica)"
      ],
      "metadata": {
        "colab": {
          "base_uri": "https://localhost:8080/"
        },
        "id": "GOh75NI105AR",
        "outputId": "ecd55e28-98cc-495f-e5a0-438c88c9dbbe"
      },
      "execution_count": 78,
      "outputs": [
        {
          "output_type": "stream",
          "name": "stdout",
          "text": [
            "Digite seu primeiro numero50\n",
            "seu numero digitado foi =  50\n",
            "Digite o segundo numero10\n",
            "seu numero digitado foi =  10\n",
            "O resultado subtraido,adcionado,dividido e mutiplicado é\n",
            "40.0\n",
            "60.0\n",
            "5.0\n",
            "500.0\n"
          ]
        }
      ]
    },
    {
      "cell_type": "markdown",
      "source": [
        "# ***Calculadora usando while***"
      ],
      "metadata": {
        "id": "UebGK5a0bl0x"
      }
    },
    {
      "cell_type": "code",
      "source": [
        "while True:\n",
        "    print(\"\\nCalculadora usando while\")\n",
        "    print(\"Escolha a operação:\")\n",
        "    print(\"1 Soma\")\n",
        "    print(\"2 Subtração\")\n",
        "    print(\"3 Multiplicação\")\n",
        "    print(\"4 Divisão\")\n",
        "    print(\"5 Sair\")\n",
        "\n",
        "    digito = input(\"Digite o número da operação desejada: \")\n",
        "\n",
        "    if digito == \"5\":\n",
        "        print(\"Calculadora desligada\")\n",
        "        break\n",
        "\n",
        "    if digito not in [\"1\", \"2\", \"3\", \"4\"]:\n",
        "        print(\"Opção inválida. Tente novamente.\")\n",
        "        continue\n",
        "\n",
        "    try:\n",
        "        num1 = float(input(\"Digite o primeiro número: \"))\n",
        "        num2 = float(input(\"Digite o segundo número: \"))\n",
        "    except ValueError:\n",
        "        print(\"Entrada inválida. Use apenas números.\")\n",
        "        continue\n",
        "\n",
        "    if digito == \"1\":\n",
        "        resultado = num1 + num2\n",
        "        print(f\"Resultado: {num1} + {num2} = {resultado}\")\n",
        "    elif digito == \"2\":\n",
        "        resultado = num1 - num2\n",
        "        print(f\"Resultado: {num1} - {num2} = {resultado}\")\n",
        "    elif digito == \"3\":\n",
        "        resultado = num1 * num2\n",
        "        print(f\"Resultado: {num1} * {num2} = {resultado}\")\n",
        "    elif digito == \"4\":\n",
        "        print(f\"Resultado: {num1} / {num2} = {resultado}\")\n"
      ],
      "metadata": {
        "colab": {
          "base_uri": "https://localhost:8080/"
        },
        "id": "u9Zd2KvGbjcH",
        "outputId": "26933f3e-2681-4a5a-e5bc-772d28febcd1"
      },
      "execution_count": 77,
      "outputs": [
        {
          "output_type": "stream",
          "name": "stdout",
          "text": [
            "\n",
            "Calculadora usando while\n",
            "Escolha a operação:\n",
            "1 Soma\n",
            "2 Subtração\n",
            "3 Multiplicação\n",
            "4 Divisão\n",
            "5 Sair\n",
            "Digite o número da operação desejada: 20\n",
            "Opção inválida. Tente novamente.\n",
            "\n",
            "Calculadora usando while\n",
            "Escolha a operação:\n",
            "1 Soma\n",
            "2 Subtração\n",
            "3 Multiplicação\n",
            "4 Divisão\n",
            "5 Sair\n",
            "Digite o número da operação desejada: 5\n",
            "Calculadora desligada\n"
          ]
        }
      ]
    }
  ]
}